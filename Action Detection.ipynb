{
 "cells": [
  {
   "cell_type": "code",
   "execution_count": 1,
   "id": "30330c2d",
   "metadata": {
    "scrolled": true
   },
   "outputs": [
    {
     "name": "stdout",
     "output_type": "stream",
     "text": [
      "Traceback (most recent call last):\r\n",
      "  File \"/Users/pranjalchoudhury/opt/anaconda3/bin/pip\", line 11, in <module>\r\n",
      "    sys.exit(main())\r\n",
      "  File \"/Users/pranjalchoudhury/opt/anaconda3/lib/python3.9/site-packages/pip/_internal/cli/main.py\", line 68, in main\r\n",
      "    command = create_command(cmd_name, isolated=(\"--isolated\" in cmd_args))\r\n",
      "  File \"/Users/pranjalchoudhury/opt/anaconda3/lib/python3.9/site-packages/pip/_internal/commands/__init__.py\", line 94, in create_command\r\n",
      "    module = importlib.import_module(module_path)\r\n",
      "  File \"/Users/pranjalchoudhury/opt/anaconda3/lib/python3.9/importlib/__init__.py\", line 127, in import_module\r\n",
      "    return _bootstrap._gcd_import(name[level:], package, level)\r\n",
      "  File \"<frozen importlib._bootstrap>\", line 1030, in _gcd_import\r\n",
      "  File \"<frozen importlib._bootstrap>\", line 1007, in _find_and_load\r\n",
      "  File \"<frozen importlib._bootstrap>\", line 986, in _find_and_load_unlocked\r\n",
      "  File \"<frozen importlib._bootstrap>\", line 680, in _load_unlocked\r\n",
      "  File \"<frozen importlib._bootstrap_external>\", line 850, in exec_module\r\n",
      "  File \"<frozen importlib._bootstrap>\", line 228, in _call_with_frames_removed\r\n",
      "  File \"/Users/pranjalchoudhury/opt/anaconda3/lib/python3.9/site-packages/pip/_internal/commands/install.py\", line 14, in <module>\r\n",
      "    from pip._internal.cli.req_command import (\r\n",
      "  File \"/Users/pranjalchoudhury/opt/anaconda3/lib/python3.9/site-packages/pip/_internal/cli/req_command.py\", line 20, in <module>\r\n",
      "    from pip._internal.index.collector import LinkCollector\r\n",
      "  File \"/Users/pranjalchoudhury/opt/anaconda3/lib/python3.9/site-packages/pip/_internal/index/collector.py\", line 35, in <module>\r\n",
      "    from pip._internal.network.session import PipSession\r\n",
      "  File \"/Users/pranjalchoudhury/opt/anaconda3/lib/python3.9/site-packages/pip/_internal/network/session.py\", line 41, in <module>\r\n",
      "    from pip._internal.network.cache import SafeFileCache\r\n",
      "  File \"/Users/pranjalchoudhury/opt/anaconda3/lib/python3.9/site-packages/pip/_internal/network/cache.py\", line 9, in <module>\r\n",
      "    from pip._vendor.cachecontrol.caches import FileCache\r\n",
      "ModuleNotFoundError: No module named 'pip._vendor.cachecontrol.caches'\r\n"
     ]
    }
   ],
   "source": [
    "!pip install tensorflow opencv-python mediapipe sklearn matplotlib"
   ]
  },
  {
   "cell_type": "code",
   "execution_count": 2,
   "id": "38a2ea2c",
   "metadata": {},
   "outputs": [],
   "source": [
    "import cv2\n",
    "import numpy as np\n",
    "import os\n",
    "import matplotlib.pyplot as plt\n",
    "import time\n",
    "import mediapipe as mp"
   ]
  },
  {
   "cell_type": "code",
   "execution_count": 3,
   "id": "9e74a474",
   "metadata": {},
   "outputs": [],
   "source": [
    "mp_holistic= mp.solutions.holistic #holistic model\n",
    "mp_drawing=mp.solutions.drawing_utils #Drawing utilities"
   ]
  },
  {
   "cell_type": "code",
   "execution_count": 4,
   "id": "918991d2",
   "metadata": {},
   "outputs": [],
   "source": [
    "def mediapipe_detection(image, model):\n",
    "    \n",
    "    image=cv2.cvtColor(image, cv2.COLOR_BGR2RGB) #Color Conversion\n",
    "    image.flags.writeable= False\n",
    "    results= model.process(image)\n",
    "    image= cv2.cvtColor(image, cv2.COLOR_RGB2BGR)#Color Conversion\n",
    "    return image , results"
   ]
  },
  {
   "cell_type": "code",
   "execution_count": 5,
   "id": "97f6bbeb",
   "metadata": {},
   "outputs": [],
   "source": [
    "def draw_landmarks(image, results):\n",
    "    \n",
    "    mp_drawing.draw_landmarks(image, results.face_landmarks, mp_holistic.FACEMESH_TESSELATION)\n",
    "    mp_drawing.draw_landmarks(image, results.pose_landmarks, mp_holistic.POSE_CONNECTIONS)\n",
    "    mp_drawing.draw_landmarks(image, results.left_hand_landmarks, mp_holistic.HAND_CONNECTIONS)\n",
    "    mp_drawing.draw_landmarks(image, results.right_hand_landmarks, mp_holistic.HAND_CONNECTIONS)\n",
    "    "
   ]
  },
  {
   "cell_type": "code",
   "execution_count": 6,
   "id": "51780db5",
   "metadata": {},
   "outputs": [],
   "source": [
    "def draw_styled_landmarks(image, results):\n",
    "    \n",
    "    mp_drawing.draw_landmarks(image, results.face_landmarks, mp_holistic.FACEMESH_TESSELATION,\n",
    "                             mp_drawing.DrawingSpec(color=(80,110,10),thickness=1, circle_radius=1),\n",
    "                             mp_drawing.DrawingSpec(color=(80,256,121),thickness=1, circle_radius=1)\n",
    "                             )\n",
    "    mp_drawing.draw_landmarks(image, results.pose_landmarks, mp_holistic.POSE_CONNECTIONS,\n",
    "                             mp_drawing.DrawingSpec(color=(80,22,10),thickness=2, circle_radius=4),\n",
    "                             mp_drawing.DrawingSpec(color=(80,44,121),thickness=2, circle_radius=2)\n",
    "                             )\n",
    "    mp_drawing.draw_landmarks(image, results.left_hand_landmarks, mp_holistic.HAND_CONNECTIONS,\n",
    "                             mp_drawing.DrawingSpec(color=(121,22,76),thickness=2, circle_radius=4),\n",
    "                             mp_drawing.DrawingSpec(color=(121,44,250),thickness=2, circle_radius=2)\n",
    "                             )\n",
    "    mp_drawing.draw_landmarks(image, results.right_hand_landmarks, mp_holistic.HAND_CONNECTIONS,\n",
    "                             mp_drawing.DrawingSpec(color=(245,117,66),thickness=2, circle_radius=4),\n",
    "                             mp_drawing.DrawingSpec(color=(245,66,230),thickness=2, circle_radius=2)\n",
    "                             )\n",
    "    "
   ]
  },
  {
   "cell_type": "code",
   "execution_count": 7,
   "id": "66f4dcde",
   "metadata": {},
   "outputs": [
    {
     "name": "stderr",
     "output_type": "stream",
     "text": [
      "INFO: Created TensorFlow Lite XNNPACK delegate for CPU.\n"
     ]
    },
    {
     "name": "stdout",
     "output_type": "stream",
     "text": [
      "<class 'mediapipe.python.solution_base.SolutionOutputs'>\n",
      "<class 'mediapipe.python.solution_base.SolutionOutputs'>\n",
      "<class 'mediapipe.python.solution_base.SolutionOutputs'>\n",
      "<class 'mediapipe.python.solution_base.SolutionOutputs'>\n",
      "<class 'mediapipe.python.solution_base.SolutionOutputs'>\n",
      "<class 'mediapipe.python.solution_base.SolutionOutputs'>\n",
      "<class 'mediapipe.python.solution_base.SolutionOutputs'>\n",
      "<class 'mediapipe.python.solution_base.SolutionOutputs'>\n",
      "<class 'mediapipe.python.solution_base.SolutionOutputs'>\n",
      "<class 'mediapipe.python.solution_base.SolutionOutputs'>\n",
      "<class 'mediapipe.python.solution_base.SolutionOutputs'>\n",
      "<class 'mediapipe.python.solution_base.SolutionOutputs'>\n",
      "<class 'mediapipe.python.solution_base.SolutionOutputs'>\n",
      "<class 'mediapipe.python.solution_base.SolutionOutputs'>\n",
      "<class 'mediapipe.python.solution_base.SolutionOutputs'>\n",
      "<class 'mediapipe.python.solution_base.SolutionOutputs'>\n",
      "<class 'mediapipe.python.solution_base.SolutionOutputs'>\n",
      "<class 'mediapipe.python.solution_base.SolutionOutputs'>\n",
      "<class 'mediapipe.python.solution_base.SolutionOutputs'>\n",
      "<class 'mediapipe.python.solution_base.SolutionOutputs'>\n",
      "<class 'mediapipe.python.solution_base.SolutionOutputs'>\n",
      "<class 'mediapipe.python.solution_base.SolutionOutputs'>\n",
      "<class 'mediapipe.python.solution_base.SolutionOutputs'>\n",
      "<class 'mediapipe.python.solution_base.SolutionOutputs'>\n",
      "<class 'mediapipe.python.solution_base.SolutionOutputs'>\n",
      "<class 'mediapipe.python.solution_base.SolutionOutputs'>\n",
      "<class 'mediapipe.python.solution_base.SolutionOutputs'>\n",
      "<class 'mediapipe.python.solution_base.SolutionOutputs'>\n",
      "<class 'mediapipe.python.solution_base.SolutionOutputs'>\n",
      "<class 'mediapipe.python.solution_base.SolutionOutputs'>\n",
      "<class 'mediapipe.python.solution_base.SolutionOutputs'>\n",
      "<class 'mediapipe.python.solution_base.SolutionOutputs'>\n",
      "<class 'mediapipe.python.solution_base.SolutionOutputs'>\n",
      "<class 'mediapipe.python.solution_base.SolutionOutputs'>\n",
      "<class 'mediapipe.python.solution_base.SolutionOutputs'>\n",
      "<class 'mediapipe.python.solution_base.SolutionOutputs'>\n",
      "<class 'mediapipe.python.solution_base.SolutionOutputs'>\n",
      "<class 'mediapipe.python.solution_base.SolutionOutputs'>\n",
      "<class 'mediapipe.python.solution_base.SolutionOutputs'>\n",
      "<class 'mediapipe.python.solution_base.SolutionOutputs'>\n",
      "<class 'mediapipe.python.solution_base.SolutionOutputs'>\n",
      "<class 'mediapipe.python.solution_base.SolutionOutputs'>\n",
      "<class 'mediapipe.python.solution_base.SolutionOutputs'>\n",
      "<class 'mediapipe.python.solution_base.SolutionOutputs'>\n",
      "<class 'mediapipe.python.solution_base.SolutionOutputs'>\n",
      "<class 'mediapipe.python.solution_base.SolutionOutputs'>\n",
      "<class 'mediapipe.python.solution_base.SolutionOutputs'>\n",
      "<class 'mediapipe.python.solution_base.SolutionOutputs'>\n",
      "<class 'mediapipe.python.solution_base.SolutionOutputs'>\n",
      "<class 'mediapipe.python.solution_base.SolutionOutputs'>\n",
      "<class 'mediapipe.python.solution_base.SolutionOutputs'>\n",
      "<class 'mediapipe.python.solution_base.SolutionOutputs'>\n",
      "<class 'mediapipe.python.solution_base.SolutionOutputs'>\n",
      "<class 'mediapipe.python.solution_base.SolutionOutputs'>\n",
      "<class 'mediapipe.python.solution_base.SolutionOutputs'>\n",
      "<class 'mediapipe.python.solution_base.SolutionOutputs'>\n",
      "<class 'mediapipe.python.solution_base.SolutionOutputs'>\n",
      "<class 'mediapipe.python.solution_base.SolutionOutputs'>\n",
      "<class 'mediapipe.python.solution_base.SolutionOutputs'>\n",
      "<class 'mediapipe.python.solution_base.SolutionOutputs'>\n",
      "<class 'mediapipe.python.solution_base.SolutionOutputs'>\n",
      "<class 'mediapipe.python.solution_base.SolutionOutputs'>\n",
      "<class 'mediapipe.python.solution_base.SolutionOutputs'>\n",
      "<class 'mediapipe.python.solution_base.SolutionOutputs'>\n",
      "<class 'mediapipe.python.solution_base.SolutionOutputs'>\n",
      "<class 'mediapipe.python.solution_base.SolutionOutputs'>\n",
      "<class 'mediapipe.python.solution_base.SolutionOutputs'>\n",
      "<class 'mediapipe.python.solution_base.SolutionOutputs'>\n",
      "<class 'mediapipe.python.solution_base.SolutionOutputs'>\n",
      "<class 'mediapipe.python.solution_base.SolutionOutputs'>\n",
      "<class 'mediapipe.python.solution_base.SolutionOutputs'>\n",
      "<class 'mediapipe.python.solution_base.SolutionOutputs'>\n",
      "<class 'mediapipe.python.solution_base.SolutionOutputs'>\n",
      "<class 'mediapipe.python.solution_base.SolutionOutputs'>\n",
      "<class 'mediapipe.python.solution_base.SolutionOutputs'>\n",
      "<class 'mediapipe.python.solution_base.SolutionOutputs'>\n",
      "<class 'mediapipe.python.solution_base.SolutionOutputs'>\n",
      "<class 'mediapipe.python.solution_base.SolutionOutputs'>\n",
      "<class 'mediapipe.python.solution_base.SolutionOutputs'>\n",
      "<class 'mediapipe.python.solution_base.SolutionOutputs'>\n",
      "<class 'mediapipe.python.solution_base.SolutionOutputs'>\n",
      "<class 'mediapipe.python.solution_base.SolutionOutputs'>\n",
      "<class 'mediapipe.python.solution_base.SolutionOutputs'>\n",
      "<class 'mediapipe.python.solution_base.SolutionOutputs'>\n",
      "<class 'mediapipe.python.solution_base.SolutionOutputs'>\n",
      "<class 'mediapipe.python.solution_base.SolutionOutputs'>\n",
      "<class 'mediapipe.python.solution_base.SolutionOutputs'>\n",
      "<class 'mediapipe.python.solution_base.SolutionOutputs'>\n",
      "<class 'mediapipe.python.solution_base.SolutionOutputs'>\n",
      "<class 'mediapipe.python.solution_base.SolutionOutputs'>\n",
      "<class 'mediapipe.python.solution_base.SolutionOutputs'>\n",
      "<class 'mediapipe.python.solution_base.SolutionOutputs'>\n",
      "<class 'mediapipe.python.solution_base.SolutionOutputs'>\n",
      "<class 'mediapipe.python.solution_base.SolutionOutputs'>\n",
      "<class 'mediapipe.python.solution_base.SolutionOutputs'>\n",
      "<class 'mediapipe.python.solution_base.SolutionOutputs'>\n",
      "<class 'mediapipe.python.solution_base.SolutionOutputs'>\n",
      "<class 'mediapipe.python.solution_base.SolutionOutputs'>\n",
      "<class 'mediapipe.python.solution_base.SolutionOutputs'>\n",
      "<class 'mediapipe.python.solution_base.SolutionOutputs'>\n",
      "<class 'mediapipe.python.solution_base.SolutionOutputs'>\n",
      "<class 'mediapipe.python.solution_base.SolutionOutputs'>\n",
      "<class 'mediapipe.python.solution_base.SolutionOutputs'>\n",
      "<class 'mediapipe.python.solution_base.SolutionOutputs'>\n",
      "<class 'mediapipe.python.solution_base.SolutionOutputs'>\n",
      "<class 'mediapipe.python.solution_base.SolutionOutputs'>\n",
      "<class 'mediapipe.python.solution_base.SolutionOutputs'>\n",
      "<class 'mediapipe.python.solution_base.SolutionOutputs'>\n",
      "<class 'mediapipe.python.solution_base.SolutionOutputs'>\n",
      "<class 'mediapipe.python.solution_base.SolutionOutputs'>\n",
      "<class 'mediapipe.python.solution_base.SolutionOutputs'>\n",
      "<class 'mediapipe.python.solution_base.SolutionOutputs'>\n",
      "<class 'mediapipe.python.solution_base.SolutionOutputs'>\n",
      "<class 'mediapipe.python.solution_base.SolutionOutputs'>\n",
      "<class 'mediapipe.python.solution_base.SolutionOutputs'>\n",
      "<class 'mediapipe.python.solution_base.SolutionOutputs'>\n",
      "<class 'mediapipe.python.solution_base.SolutionOutputs'>\n",
      "<class 'mediapipe.python.solution_base.SolutionOutputs'>\n",
      "<class 'mediapipe.python.solution_base.SolutionOutputs'>\n",
      "<class 'mediapipe.python.solution_base.SolutionOutputs'>\n",
      "<class 'mediapipe.python.solution_base.SolutionOutputs'>\n",
      "<class 'mediapipe.python.solution_base.SolutionOutputs'>\n",
      "<class 'mediapipe.python.solution_base.SolutionOutputs'>\n",
      "<class 'mediapipe.python.solution_base.SolutionOutputs'>\n",
      "<class 'mediapipe.python.solution_base.SolutionOutputs'>\n",
      "<class 'mediapipe.python.solution_base.SolutionOutputs'>\n",
      "<class 'mediapipe.python.solution_base.SolutionOutputs'>\n",
      "<class 'mediapipe.python.solution_base.SolutionOutputs'>\n",
      "<class 'mediapipe.python.solution_base.SolutionOutputs'>\n",
      "<class 'mediapipe.python.solution_base.SolutionOutputs'>\n",
      "<class 'mediapipe.python.solution_base.SolutionOutputs'>\n",
      "<class 'mediapipe.python.solution_base.SolutionOutputs'>\n",
      "<class 'mediapipe.python.solution_base.SolutionOutputs'>\n",
      "<class 'mediapipe.python.solution_base.SolutionOutputs'>\n",
      "<class 'mediapipe.python.solution_base.SolutionOutputs'>\n",
      "<class 'mediapipe.python.solution_base.SolutionOutputs'>\n",
      "<class 'mediapipe.python.solution_base.SolutionOutputs'>\n",
      "<class 'mediapipe.python.solution_base.SolutionOutputs'>\n",
      "<class 'mediapipe.python.solution_base.SolutionOutputs'>\n",
      "<class 'mediapipe.python.solution_base.SolutionOutputs'>\n",
      "<class 'mediapipe.python.solution_base.SolutionOutputs'>\n",
      "<class 'mediapipe.python.solution_base.SolutionOutputs'>\n",
      "<class 'mediapipe.python.solution_base.SolutionOutputs'>\n",
      "<class 'mediapipe.python.solution_base.SolutionOutputs'>\n",
      "<class 'mediapipe.python.solution_base.SolutionOutputs'>\n",
      "<class 'mediapipe.python.solution_base.SolutionOutputs'>\n",
      "<class 'mediapipe.python.solution_base.SolutionOutputs'>\n",
      "<class 'mediapipe.python.solution_base.SolutionOutputs'>\n",
      "<class 'mediapipe.python.solution_base.SolutionOutputs'>\n",
      "<class 'mediapipe.python.solution_base.SolutionOutputs'>\n",
      "<class 'mediapipe.python.solution_base.SolutionOutputs'>\n",
      "<class 'mediapipe.python.solution_base.SolutionOutputs'>\n",
      "<class 'mediapipe.python.solution_base.SolutionOutputs'>\n",
      "<class 'mediapipe.python.solution_base.SolutionOutputs'>\n",
      "<class 'mediapipe.python.solution_base.SolutionOutputs'>\n",
      "<class 'mediapipe.python.solution_base.SolutionOutputs'>\n",
      "<class 'mediapipe.python.solution_base.SolutionOutputs'>\n",
      "<class 'mediapipe.python.solution_base.SolutionOutputs'>\n",
      "<class 'mediapipe.python.solution_base.SolutionOutputs'>\n",
      "<class 'mediapipe.python.solution_base.SolutionOutputs'>\n",
      "<class 'mediapipe.python.solution_base.SolutionOutputs'>\n",
      "<class 'mediapipe.python.solution_base.SolutionOutputs'>\n",
      "<class 'mediapipe.python.solution_base.SolutionOutputs'>\n",
      "<class 'mediapipe.python.solution_base.SolutionOutputs'>\n",
      "<class 'mediapipe.python.solution_base.SolutionOutputs'>\n",
      "<class 'mediapipe.python.solution_base.SolutionOutputs'>\n",
      "<class 'mediapipe.python.solution_base.SolutionOutputs'>\n",
      "<class 'mediapipe.python.solution_base.SolutionOutputs'>\n",
      "<class 'mediapipe.python.solution_base.SolutionOutputs'>\n",
      "<class 'mediapipe.python.solution_base.SolutionOutputs'>\n",
      "<class 'mediapipe.python.solution_base.SolutionOutputs'>\n",
      "<class 'mediapipe.python.solution_base.SolutionOutputs'>\n",
      "<class 'mediapipe.python.solution_base.SolutionOutputs'>\n",
      "<class 'mediapipe.python.solution_base.SolutionOutputs'>\n",
      "<class 'mediapipe.python.solution_base.SolutionOutputs'>\n",
      "<class 'mediapipe.python.solution_base.SolutionOutputs'>\n",
      "<class 'mediapipe.python.solution_base.SolutionOutputs'>\n",
      "<class 'mediapipe.python.solution_base.SolutionOutputs'>\n",
      "<class 'mediapipe.python.solution_base.SolutionOutputs'>\n",
      "<class 'mediapipe.python.solution_base.SolutionOutputs'>\n",
      "<class 'mediapipe.python.solution_base.SolutionOutputs'>\n",
      "<class 'mediapipe.python.solution_base.SolutionOutputs'>\n"
     ]
    }
   ],
   "source": [
    "cap=cv2.VideoCapture(0)\n",
    "with mp_holistic.Holistic(min_detection_confidence=0.5, min_tracking_confidence=0.5) as holistic:\n",
    "    while cap.isOpened():\n",
    "        \n",
    "        \n",
    "        #Read feed\n",
    "        ret, frame= cap.read()\n",
    "        cv2.imshow('OpenCV Feed', frame)\n",
    "        \n",
    "        \n",
    "        #make decisions\n",
    "        image , results= mediapipe_detection(frame,holistic)\n",
    "        print(results)\n",
    "        \n",
    "        #Draw landmarks\n",
    "        draw_styled_landmarks(image, results)\n",
    "            \n",
    "        #show to screen\n",
    "        cv2.imshow('OpenCV Feed', image)\n",
    "        \n",
    "        #Breaking gracefully\n",
    "        if cv2.waitKey(10)& 0xFF==ord('q'):\n",
    "            break\n",
    "    cap.release()\n",
    "    cv2.destroyAllWindows()"
   ]
  },
  {
   "cell_type": "code",
   "execution_count": 8,
   "id": "90cfd415",
   "metadata": {},
   "outputs": [
    {
     "data": {
      "text/plain": [
       "frozenset({(0, 1),\n",
       "           (0, 4),\n",
       "           (1, 2),\n",
       "           (2, 3),\n",
       "           (3, 7),\n",
       "           (4, 5),\n",
       "           (5, 6),\n",
       "           (6, 8),\n",
       "           (9, 10),\n",
       "           (11, 12),\n",
       "           (11, 13),\n",
       "           (11, 23),\n",
       "           (12, 14),\n",
       "           (12, 24),\n",
       "           (13, 15),\n",
       "           (14, 16),\n",
       "           (15, 17),\n",
       "           (15, 19),\n",
       "           (15, 21),\n",
       "           (16, 18),\n",
       "           (16, 20),\n",
       "           (16, 22),\n",
       "           (17, 19),\n",
       "           (18, 20),\n",
       "           (23, 24),\n",
       "           (23, 25),\n",
       "           (24, 26),\n",
       "           (25, 27),\n",
       "           (26, 28),\n",
       "           (27, 29),\n",
       "           (27, 31),\n",
       "           (28, 30),\n",
       "           (28, 32),\n",
       "           (29, 31),\n",
       "           (30, 32)})"
      ]
     },
     "execution_count": 8,
     "metadata": {},
     "output_type": "execute_result"
    }
   ],
   "source": [
    "mp_holistic.POSE_CONNECTIONS"
   ]
  },
  {
   "cell_type": "code",
   "execution_count": 9,
   "id": "ffe2558f",
   "metadata": {},
   "outputs": [
    {
     "data": {
      "text/plain": [
       "mediapipe.python.solution_base.SolutionOutputs"
      ]
     },
     "execution_count": 9,
     "metadata": {},
     "output_type": "execute_result"
    }
   ],
   "source": [
    "results"
   ]
  },
  {
   "cell_type": "code",
   "execution_count": 10,
   "id": "eb169a25",
   "metadata": {},
   "outputs": [],
   "source": [
    "draw_landmarks(frame, results)"
   ]
  },
  {
   "cell_type": "code",
   "execution_count": 11,
   "id": "7912d188",
   "metadata": {},
   "outputs": [
    {
     "data": {
      "text/plain": [
       "<matplotlib.image.AxesImage at 0x7f9e7ae4b730>"
      ]
     },
     "execution_count": 11,
     "metadata": {},
     "output_type": "execute_result"
    },
    {
     "data": {
      "image/png": "[encoded data removed]",
      "text/plain": [
       "<Figure size 432x288 with 1 Axes>"
      ]
     },
     "metadata": {
      "needs_background": "light"
     },
     "output_type": "display_data"
    }
   ],
   "source": [
    "plt.imshow(cv2.cvtColor(frame,cv2.COLOR_BGR2RGB))"
   ]
  },
  {
   "cell_type": "code",
   "execution_count": null,
   "id": "a63721c0",
   "metadata": {},
   "outputs": [],
   "source": []
  },
  {
   "cell_type": "code",
   "execution_count": 12,
   "id": "a78289c6",
   "metadata": {},
   "outputs": [
    {
     "data": {
      "text/plain": [
       "landmark {\n",
       "  x: 0.5335073471069336\n",
       "  y: 0.43270179629325867\n",
       "  z: -0.6967540979385376\n",
       "  visibility: 0.9999237060546875\n",
       "}\n",
       "landmark {\n",
       "  x: 0.5585235953330994\n",
       "  y: 0.34915679693222046\n",
       "  z: -0.6566177606582642\n",
       "  visibility: 0.9998475313186646\n",
       "}\n",
       "landmark {\n",
       "  x: 0.5757761597633362\n",
       "  y: 0.3471331000328064\n",
       "  z: -0.6566871404647827\n",
       "  visibility: 0.9998358488082886\n",
       "}\n",
       "landmark {\n",
       "  x: 0.5894432663917542\n",
       "  y: 0.3468480110168457\n",
       "  z: -0.6567410826683044\n",
       "  visibility: 0.9998288154602051\n",
       "}\n",
       "landmark {\n",
       "  x: 0.5035302639007568\n",
       "  y: 0.35796505212783813\n",
       "  z: -0.6533822417259216\n",
       "  visibility: 0.9998779296875\n",
       "}\n",
       "landmark {\n",
       "  x: 0.48544007539749146\n",
       "  y: 0.36130625009536743\n",
       "  z: -0.6527022123336792\n",
       "  visibility: 0.9998804330825806\n",
       "}\n",
       "landmark {\n",
       "  x: 0.46996769309043884\n",
       "  y: 0.36527112126350403\n",
       "  z: -0.6530056595802307\n",
       "  visibility: 0.9998841881752014\n",
       "}\n",
       "landmark {\n",
       "  x: 0.6185116767883301\n",
       "  y: 0.3876406252384186\n",
       "  z: -0.3634347915649414\n",
       "  visibility: 0.9997948408126831\n",
       "}\n",
       "landmark {\n",
       "  x: 0.4549958109855652\n",
       "  y: 0.4144741892814636\n",
       "  z: -0.32541102170944214\n",
       "  visibility: 0.9998922348022461\n",
       "}\n",
       "landmark {\n",
       "  x: 0.5707086324691772\n",
       "  y: 0.5183228254318237\n",
       "  z: -0.5859332084655762\n",
       "  visibility: 0.9998924732208252\n",
       "}\n",
       "landmark {\n",
       "  x: 0.5031341314315796\n",
       "  y: 0.5296407341957092\n",
       "  z: -0.5751312375068665\n",
       "  visibility: 0.9999198913574219\n",
       "}\n",
       "landmark {\n",
       "  x: 0.7644383907318115\n",
       "  y: 0.747040331363678\n",
       "  z: -0.22306153178215027\n",
       "  visibility: 0.9984709024429321\n",
       "}\n",
       "landmark {\n",
       "  x: 0.35856547951698303\n",
       "  y: 0.8818472027778625\n",
       "  z: -0.24884624779224396\n",
       "  visibility: 0.9989767670631409\n",
       "}\n",
       "landmark {\n",
       "  x: 0.9064928889274597\n",
       "  y: 1.0055897235870361\n",
       "  z: -0.3750966191291809\n",
       "  visibility: 0.19230353832244873\n",
       "}\n",
       "landmark {\n",
       "  x: 0.2947978079319\n",
       "  y: 1.3881182670593262\n",
       "  z: -0.3871329426765442\n",
       "  visibility: 0.20113793015480042\n",
       "}\n",
       "landmark {\n",
       "  x: 0.9463144540786743\n",
       "  y: 1.4875891208648682\n",
       "  z: -0.8008139729499817\n",
       "  visibility: 0.26521867513656616\n",
       "}\n",
       "landmark {\n",
       "  x: 0.30710554122924805\n",
       "  y: 1.796520709991455\n",
       "  z: -0.9866545796394348\n",
       "  visibility: 0.11678201705217361\n",
       "}\n",
       "landmark {\n",
       "  x: 0.9784663915634155\n",
       "  y: 1.6006196737289429\n",
       "  z: -0.9240150451660156\n",
       "  visibility: 0.30250635743141174\n",
       "}\n",
       "landmark {\n",
       "  x: 0.28069910407066345\n",
       "  y: 1.9496978521347046\n",
       "  z: -1.129433035850525\n",
       "  visibility: 0.17680811882019043\n",
       "}\n",
       "landmark {\n",
       "  x: 0.9299113154411316\n",
       "  y: 1.5906970500946045\n",
       "  z: -0.9373172521591187\n",
       "  visibility: 0.3747829496860504\n",
       "}\n",
       "landmark {\n",
       "  x: 0.3330020308494568\n",
       "  y: 1.9297176599502563\n",
       "  z: -1.2103245258331299\n",
       "  visibility: 0.25797396898269653\n",
       "}\n",
       "landmark {\n",
       "  x: 0.9091097712516785\n",
       "  y: 1.5575932264328003\n",
       "  z: -0.8309191465377808\n",
       "  visibility: 0.3700582981109619\n",
       "}\n",
       "landmark {\n",
       "  x: 0.3509393334388733\n",
       "  y: 1.870206594467163\n",
       "  z: -1.0437557697296143\n",
       "  visibility: 0.25911182165145874\n",
       "}\n",
       "landmark {\n",
       "  x: 0.7481871247291565\n",
       "  y: 1.7612781524658203\n",
       "  z: -0.06272558867931366\n",
       "  visibility: 0.0006139273173175752\n",
       "}\n",
       "landmark {\n",
       "  x: 0.5019418001174927\n",
       "  y: 1.8211171627044678\n",
       "  z: 0.06757043302059174\n",
       "  visibility: 0.0005936995148658752\n",
       "}\n",
       "landmark {\n",
       "  x: 0.7870894074440002\n",
       "  y: 2.5508923530578613\n",
       "  z: -0.03596298396587372\n",
       "  visibility: 0.0003389880002941936\n",
       "}\n",
       "landmark {\n",
       "  x: 0.5334621667861938\n",
       "  y: 2.610459566116333\n",
       "  z: 0.19830596446990967\n",
       "  visibility: 0.00013739790301769972\n",
       "}\n",
       "landmark {\n",
       "  x: 0.8195027112960815\n",
       "  y: 3.277431011199951\n",
       "  z: 0.49172577261924744\n",
       "  visibility: 3.5180528357159346e-05\n",
       "}\n",
       "landmark {\n",
       "  x: 0.5728369951248169\n",
       "  y: 3.3185462951660156\n",
       "  z: 0.585349440574646\n",
       "  visibility: 5.2102645895502064e-06\n",
       "}\n",
       "landmark {\n",
       "  x: 0.830923855304718\n",
       "  y: 3.3911800384521484\n",
       "  z: 0.5143789052963257\n",
       "  visibility: 2.8270786060602404e-05\n",
       "}\n",
       "landmark {\n",
       "  x: 0.5711547136306763\n",
       "  y: 3.4329442977905273\n",
       "  z: 0.6119279861450195\n",
       "  visibility: 1.6187867004191503e-05\n",
       "}\n",
       "landmark {\n",
       "  x: 0.7871131896972656\n",
       "  y: 3.5093047618865967\n",
       "  z: 0.0026092161424458027\n",
       "  visibility: 5.4808315326226875e-05\n",
       "}\n",
       "landmark {\n",
       "  x: 0.6297142505645752\n",
       "  y: 3.5362727642059326\n",
       "  z: 0.08160832524299622\n",
       "  visibility: 3.8048870919737965e-05\n",
       "}"
      ]
     },
     "execution_count": 12,
     "metadata": {},
     "output_type": "execute_result"
    }
   ],
   "source": [
    "results.pose_landmarks"
   ]
  },
  {
   "cell_type": "code",
   "execution_count": 13,
   "id": "64e16519",
   "metadata": {},
   "outputs": [],
   "source": [
    "pose=np.array([[res.x, res.y, res.z,res.visibility]for res in results.pose_landmarks.landmark]).flatten()if results.pose_landmarks else np.zeros(33*4)\n",
    "lh=np.array([[res.x, res.y, res.z]for res in results.left_hand_landmarks.landmark]).flatten()if results.left_hand_landmarks else np.zeros(21*3)\n",
    "\n",
    "\n",
    "face=np.array([[res.x, res.y, res.z]for res in results.face_landmarks.landmark]).flatten()if results.face_landmarks else np.zeros(468*3)\n"
   ]
  },
  {
   "cell_type": "code",
   "execution_count": 14,
   "id": "68b229cb",
   "metadata": {},
   "outputs": [],
   "source": [
    "rh=np.array([[res.x, res.y, res.z]for res in results.right_hand_landmarks.landmark]).flatten()if results.right_hand_landmarks else np.zeros(21*3)\n"
   ]
  },
  {
   "cell_type": "code",
   "execution_count": 15,
   "id": "7570a411",
   "metadata": {},
   "outputs": [
    {
     "data": {
      "text/plain": [
       "array([0., 0., 0., 0., 0., 0., 0., 0., 0., 0., 0., 0., 0., 0., 0., 0., 0.,\n",
       "       0., 0., 0., 0., 0., 0., 0., 0., 0., 0., 0., 0., 0., 0., 0., 0., 0.,\n",
       "       0., 0., 0., 0., 0., 0., 0., 0., 0., 0., 0., 0., 0., 0., 0., 0., 0.,\n",
       "       0., 0., 0., 0., 0., 0., 0., 0., 0., 0., 0., 0.])"
      ]
     },
     "execution_count": 15,
     "metadata": {},
     "output_type": "execute_result"
    }
   ],
   "source": [
    "lh"
   ]
  },
  {
   "cell_type": "code",
   "execution_count": 16,
   "id": "ffcc9fc0",
   "metadata": {},
   "outputs": [
    {
     "data": {
      "text/plain": [
       "array([ 5.33507347e-01,  4.32701796e-01, -6.96754098e-01,  9.99923706e-01,\n",
       "        5.58523595e-01,  3.49156797e-01, -6.56617761e-01,  9.99847531e-01,\n",
       "        5.75776160e-01,  3.47133100e-01, -6.56687140e-01,  9.99835849e-01,\n",
       "        5.89443266e-01,  3.46848011e-01, -6.56741083e-01,  9.99828815e-01,\n",
       "        5.03530264e-01,  3.57965052e-01, -6.53382242e-01,  9.99877930e-01,\n",
       "        4.85440075e-01,  3.61306250e-01, -6.52702212e-01,  9.99880433e-01,\n",
       "        4.69967693e-01,  3.65271121e-01, -6.53005660e-01,  9.99884188e-01,\n",
       "        6.18511677e-01,  3.87640625e-01, -3.63434792e-01,  9.99794841e-01,\n",
       "        4.54995811e-01,  4.14474189e-01, -3.25411022e-01,  9.99892235e-01,\n",
       "        5.70708632e-01,  5.18322825e-01, -5.85933208e-01,  9.99892473e-01,\n",
       "        5.03134131e-01,  5.29640734e-01, -5.75131238e-01,  9.99919891e-01,\n",
       "        7.64438391e-01,  7.47040331e-01, -2.23061532e-01,  9.98470902e-01,\n",
       "        3.58565480e-01,  8.81847203e-01, -2.48846248e-01,  9.98976767e-01,\n",
       "        9.06492889e-01,  1.00558972e+00, -3.75096619e-01,  1.92303538e-01,\n",
       "        2.94797808e-01,  1.38811827e+00, -3.87132943e-01,  2.01137930e-01,\n",
       "        9.46314454e-01,  1.48758912e+00, -8.00813973e-01,  2.65218675e-01,\n",
       "        3.07105541e-01,  1.79652071e+00, -9.86654580e-01,  1.16782017e-01,\n",
       "        9.78466392e-01,  1.60061967e+00, -9.24015045e-01,  3.02506357e-01,\n",
       "        2.80699104e-01,  1.94969785e+00, -1.12943304e+00,  1.76808119e-01,\n",
       "        9.29911315e-01,  1.59069705e+00, -9.37317252e-01,  3.74782950e-01,\n",
       "        3.33002031e-01,  1.92971766e+00, -1.21032453e+00,  2.57973969e-01,\n",
       "        9.09109771e-01,  1.55759323e+00, -8.30919147e-01,  3.70058298e-01,\n",
       "        3.50939333e-01,  1.87020659e+00, -1.04375577e+00,  2.59111822e-01,\n",
       "        7.48187125e-01,  1.76127815e+00, -6.27255887e-02,  6.13927317e-04,\n",
       "        5.01941800e-01,  1.82111716e+00,  6.75704330e-02,  5.93699515e-04,\n",
       "        7.87089407e-01,  2.55089235e+00, -3.59629840e-02,  3.38988000e-04,\n",
       "        5.33462167e-01,  2.61045957e+00,  1.98305964e-01,  1.37397903e-04,\n",
       "        8.19502711e-01,  3.27743101e+00,  4.91725773e-01,  3.51805284e-05,\n",
       "        5.72836995e-01,  3.31854630e+00,  5.85349441e-01,  5.21026459e-06,\n",
       "        8.30923855e-01,  3.39118004e+00,  5.14378905e-01,  2.82707861e-05,\n",
       "        5.71154714e-01,  3.43294430e+00,  6.11927986e-01,  1.61878670e-05,\n",
       "        7.87113190e-01,  3.50930476e+00,  2.60921614e-03,  5.48083153e-05,\n",
       "        6.29714251e-01,  3.53627276e+00,  8.16083252e-02,  3.80488709e-05])"
      ]
     },
     "execution_count": 16,
     "metadata": {},
     "output_type": "execute_result"
    }
   ],
   "source": [
    "pose"
   ]
  },
  {
   "cell_type": "code",
   "execution_count": 17,
   "id": "a6c21129",
   "metadata": {},
   "outputs": [
    {
     "data": {
      "text/plain": [
       "132"
      ]
     },
     "execution_count": 17,
     "metadata": {},
     "output_type": "execute_result"
    }
   ],
   "source": [
    "len(pose)"
   ]
  },
  {
   "cell_type": "code",
   "execution_count": 18,
   "id": "51b39f2e",
   "metadata": {},
   "outputs": [
    {
     "data": {
      "text/plain": [
       "array([0., 0., 0., 0., 0., 0., 0., 0., 0., 0., 0., 0., 0., 0., 0., 0., 0.,\n",
       "       0., 0., 0., 0., 0., 0., 0., 0., 0., 0., 0., 0., 0., 0., 0., 0., 0.,\n",
       "       0., 0., 0., 0., 0., 0., 0., 0., 0., 0., 0., 0., 0., 0., 0., 0., 0.,\n",
       "       0., 0., 0., 0., 0., 0., 0., 0., 0., 0., 0., 0.])"
      ]
     },
     "execution_count": 18,
     "metadata": {},
     "output_type": "execute_result"
    }
   ],
   "source": [
    "rh"
   ]
  },
  {
   "cell_type": "code",
   "execution_count": 19,
   "id": "66e040b7",
   "metadata": {},
   "outputs": [
    {
     "data": {
      "text/plain": [
       "array([ 0.54544151,  0.50901884, -0.02537957, ...,  0.61030006,\n",
       "        0.33143839,  0.01412071])"
      ]
     },
     "execution_count": 19,
     "metadata": {},
     "output_type": "execute_result"
    }
   ],
   "source": [
    "face"
   ]
  },
  {
   "cell_type": "code",
   "execution_count": 20,
   "id": "abe8fa9f",
   "metadata": {},
   "outputs": [],
   "source": [
    "def extract_keypoints(results):\n",
    "    pose=np.array([[res.x, res.y, res.z,res.visibility]for res in results.pose_landmarks.landmark]).flatten()if results.pose_landmarks else np.zeros(33*4)\n",
    "    lh=np.array([[res.x, res.y, res.z]for res in results.left_hand_landmarks.landmark]).flatten()if results.left_hand_landmarks else np.zeros(21*3)\n",
    "    face=np.array([[res.x, res.y, res.z]for res in results.face_landmarks.landmark]).flatten()if results.face_landmarks else np.zeros(468*3)\n",
    "    rh=np.array([[res.x, res.y, res.z]for res in results.right_hand_landmarks.landmark]).flatten()if results.right_hand_landmarks else np.zeros(21*3)\n",
    "    return np.concatenate([pose,face,lh,rh])\n",
    "    \n",
    "\n",
    "    "
   ]
  },
  {
   "cell_type": "code",
   "execution_count": 21,
   "id": "9655e846",
   "metadata": {},
   "outputs": [
    {
     "data": {
      "text/plain": [
       "(1662,)"
      ]
     },
     "execution_count": 21,
     "metadata": {},
     "output_type": "execute_result"
    }
   ],
   "source": [
    "extract_keypoints(results).shape"
   ]
  },
  {
   "cell_type": "code",
   "execution_count": null,
   "id": "58e0ec39",
   "metadata": {},
   "outputs": [],
   "source": []
  },
  {
   "cell_type": "code",
   "execution_count": null,
   "id": "ccdee9cd",
   "metadata": {},
   "outputs": [],
   "source": []
  },
  {
   "cell_type": "code",
   "execution_count": 22,
   "id": "4545327d",
   "metadata": {},
   "outputs": [],
   "source": [
    "DATA_PATH=os.path.join('MP_Data')\n",
    "actions=np.array(['hello','thanks','iloveyou'])\n",
    "no_sequences=30\n",
    "sequence_length=30"
   ]
  },
  {
   "cell_type": "code",
   "execution_count": 23,
   "id": "7ff2e744",
   "metadata": {},
   "outputs": [],
   "source": [
    "for action in actions:\n",
    "    for sequence in range(no_sequences):\n",
    "        \n",
    "        try:\n",
    "            os.makers(os.path.join(DATA_PATH,actions, str(sequence)))\n",
    "        except:\n",
    "            pass"
   ]
  },
  {
   "cell_type": "code",
   "execution_count": 24,
   "id": "5b28a27b",
   "metadata": {},
   "outputs": [
    {
     "name": "stdout",
     "output_type": "stream",
     "text": [
      "<class 'mediapipe.python.solution_base.SolutionOutputs'>\n"
     ]
    },
    {
     "ename": "AttributeError",
     "evalue": "module 'cv2' has no attribute 'putTEXT'",
     "output_type": "error",
     "traceback": [
      "\u001b[0;31m---------------------------------------------------------------------------\u001b[0m",
      "\u001b[0;31mAttributeError\u001b[0m                            Traceback (most recent call last)",
      "Input \u001b[0;32mIn [24]\u001b[0m, in \u001b[0;36m<cell line: 3>\u001b[0;34m()\u001b[0m\n\u001b[1;32m     16\u001b[0m draw_styled_landmarks(image, results)\n\u001b[1;32m     17\u001b[0m \u001b[38;5;28;01mif\u001b[39;00m frame_num\u001b[38;5;241m==\u001b[39m\u001b[38;5;241m0\u001b[39m:\n\u001b[0;32m---> 18\u001b[0m     \u001b[43mcv2\u001b[49m\u001b[38;5;241;43m.\u001b[39;49m\u001b[43mputTEXT\u001b[49m(image, \u001b[38;5;124m'\u001b[39m\u001b[38;5;124mStarting Collection\u001b[39m\u001b[38;5;124m'\u001b[39m,(\u001b[38;5;241m120\u001b[39m,\u001b[38;5;241m200\u001b[39m),\n\u001b[1;32m     19\u001b[0m                cv2\u001b[38;5;241m.\u001b[39mFONT_HERSHEY_SIMPLEX,\u001b[38;5;241m0.5\u001b[39m,(\u001b[38;5;241m0\u001b[39m,\u001b[38;5;241m255\u001b[39m,\u001b[38;5;241m0\u001b[39m),\u001b[38;5;241m4\u001b[39m, cv2\u001b[38;5;241m.\u001b[39mLINE_AA)\n\u001b[1;32m     20\u001b[0m     cv2\u001b[38;5;241m.\u001b[39mputTEXT(image,\u001b[38;5;124m'\u001b[39m\u001b[38;5;124mCollecting frames for \u001b[39m\u001b[38;5;132;01m{}\u001b[39;00m\u001b[38;5;124m video number \u001b[39m\u001b[38;5;132;01m{}\u001b[39;00m\u001b[38;5;124m'\u001b[39m\u001b[38;5;241m.\u001b[39mformat(action, sequence),(\u001b[38;5;241m15\u001b[39m,\u001b[38;5;241m12\u001b[39m),\n\u001b[1;32m     21\u001b[0m                 cv2\u001b[38;5;241m.\u001b[39mFONT_HERSHEY_SIMPLEX,\u001b[38;5;241m0.5\u001b[39m,(\u001b[38;5;241m0\u001b[39m,\u001b[38;5;241m0\u001b[39m,\u001b[38;5;241m255\u001b[39m),\u001b[38;5;241m1\u001b[39m, cv2\u001b[38;5;241m.\u001b[39mLINE_AA)\n\u001b[1;32m     22\u001b[0m \u001b[38;5;28;01melse\u001b[39;00m:\n",
      "\u001b[0;31mAttributeError\u001b[0m: module 'cv2' has no attribute 'putTEXT'"
     ]
    }
   ],
   "source": [
    "cap=cv2.VideoCapture(0)\n",
    "#set madiapipe model\n",
    "with mp_holistic.Holistic(min_detection_confidence=0.5, min_tracking_confidence=0.5) as holistic:\n",
    "    #Loop through actions\n",
    "    for action in actions:\n",
    "        for sequence in range(no_sequences):\n",
    "            for frame_num in range(sequence_length):\n",
    "                #Read feed\n",
    "                ret, frame= cap.read()\n",
    "                #make decisions\n",
    "                image , results= mediapipe_detection(frame,holistic)\n",
    "                print(results)\n",
    "                \n",
    "        \n",
    "                #Draw landmarks\n",
    "                draw_styled_landmarks(image, results)\n",
    "                if frame_num==0:\n",
    "                    cv2.putTEXT(image, 'Starting Collection',(120,200),\n",
    "                               cv2.FONT_HERSHEY_SIMPLEX,0.5,(0,255,0),4, cv2.LINE_AA)\n",
    "                    cv2.putTEXT(image,'Collecting frames for {} video number {}'.format(action, sequence),(15,12),\n",
    "                                cv2.FONT_HERSHEY_SIMPLEX,0.5,(0,0,255),1, cv2.LINE_AA)\n",
    "                else:\n",
    "                    cv2.putTEXT(image,'Collecting frames for {} video number {}'.format(action, sequence),(15,12),\n",
    "                                \n",
    "                                cv2.FONT_HERSHEY_SIMPLEX,0.5,(0,0,255),1, cv2.LINE_AA)\n",
    "                #Show to screen\n",
    "                cv2.imshow('OpenCV feed',image)\n",
    "    #Break gracefully\n",
    "   \n",
    "    cap.release()\n",
    "    cv2.destroyAllWindows()"
   ]
  },
  {
   "cell_type": "code",
   "execution_count": null,
   "id": "765e3fb9",
   "metadata": {},
   "outputs": [],
   "source": []
  }
 ],
 "metadata": {
  "kernelspec": {
   "display_name": "Python 3 (ipykernel)",
   "language": "python",
   "name": "python3"
  },
  "language_info": {
   "codemirror_mode": {
    "name": "ipython",
    "version": 3
   },
   "file_extension": ".py",
   "mimetype": "text/x-python",
   "name": "python",
   "nbconvert_exporter": "python",
   "pygments_lexer": "ipython3",
   "version": "3.9.12"
  }
 },
 "nbformat": 4,
 "nbformat_minor": 5
}
